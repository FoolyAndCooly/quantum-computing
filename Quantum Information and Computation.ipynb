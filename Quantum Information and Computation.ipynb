{
 "cells": [
  {
   "cell_type": "markdown",
   "id": "a11255f1",
   "metadata": {},
   "source": [
    "# Single system\n",
    "## Classical information\n",
    "If $X$ is a bit, then $\\sum = \\{ 0,1\\}$, if $Pr(X = 0) = \\frac{3}{4} and Pr(X=1)=\\frac{1}{4}$, we can write\n",
    "$$\\left(\\begin{matrix}\n",
    "\\frac{3}{4} \\\\\n",
    "\\frac{1}{4} \\\\\n",
    "\\end{matrix}\n",
    "\\right)$$\n",
    "there is \n",
    "$$\\left(\\begin{matrix}\n",
    "\\frac{3}{4} \\\\\n",
    "\\frac{1}{4} \\\\\n",
    "\\end{matrix}\n",
    "\\right) = \\frac{3}{4} \\left | 0 \\right \\rangle + \\frac{1}{4} \\left | 1 \\right \\rangle $$\n",
    "$$M|a\\rangle = |f(a)\\rangle$$\n",
    "$$M = \\sum_{a\\in \\Sigma}|f(a)\\rangle \\langle a |$$"
   ]
  },
  {
   "cell_type": "markdown",
   "id": "d7f0c1ed",
   "metadata": {},
   "source": [
    "# Quantum information\n",
    "most of this part has discussed in Inroduction.\n",
    "A square maxtrix $U$ having complex number entries is unitary:\n",
    "$$ U U^\\dagger = \\mathbb{1} $$\n",
    "$$U^\\dagger = \\bar{U^T}$$\n",
    "# Basic Qiskit examples"
   ]
  },
  {
   "cell_type": "code",
   "execution_count": 2,
   "id": "cc647bd6",
   "metadata": {},
   "outputs": [
    {
     "data": {
      "text/latex": [
       "$$(\\frac{1}{3} + \\frac{2 i}{3}) |0\\rangle- \\frac{2}{3} |1\\rangle$$"
      ],
      "text/plain": [
       "<IPython.core.display.Latex object>"
      ]
     },
     "metadata": {},
     "output_type": "display_data"
    }
   ],
   "source": [
    "from qiskit.quantum_info import Statevector\n",
    "v = Statevector([(1+2.j)/3, -2/3])\n",
    "display(v.draw('latex'))"
   ]
  },
  {
   "cell_type": "code",
   "execution_count": 3,
   "id": "4284f1bf",
   "metadata": {},
   "outputs": [
    {
     "data": {
      "text/plain": [
       "True"
      ]
     },
     "metadata": {},
     "output_type": "display_data"
    }
   ],
   "source": [
    "display(v.is_valid())"
   ]
  },
  {
   "cell_type": "code",
   "execution_count": 4,
   "id": "063ae5ea",
   "metadata": {},
   "outputs": [
    {
     "data": {
      "text/plain": [
       "('1',\n",
       " Statevector([ 0.+0.j, -1.+0.j],\n",
       "             dims=(2,)))"
      ]
     },
     "execution_count": 4,
     "metadata": {},
     "output_type": "execute_result"
    }
   ],
   "source": [
    "v.measure()"
   ]
  },
  {
   "cell_type": "code",
   "execution_count": 6,
   "id": "c7b7a1c1",
   "metadata": {},
   "outputs": [
    {
     "data": {
      "text/plain": [
       "{'0': 560, '1': 440}"
      ]
     },
     "metadata": {},
     "output_type": "display_data"
    },
    {
     "data": {
      "image/png": "[encoded data removed]",
      "text/plain": [
       "<Figure size 700x500 with 1 Axes>"
      ]
     },
     "execution_count": 6,
     "metadata": {},
     "output_type": "execute_result"
    }
   ],
   "source": [
    "from qiskit.visualization import plot_histogram\n",
    "\n",
    "statistics = v.sample_counts(1000)\n",
    "display(statistics)\n",
    "plot_histogram(statistics)"
   ]
  },
  {
   "cell_type": "code",
   "execution_count": 7,
   "id": "0721af42",
   "metadata": {},
   "outputs": [
    {
     "data": {
      "text/latex": [
       "$$(\\frac{1}{3} + \\frac{2 i}{3}) |0\\rangle- \\frac{2 i}{3} |1\\rangle$$"
      ],
      "text/plain": [
       "<IPython.core.display.Latex object>"
      ]
     },
     "execution_count": 7,
     "metadata": {},
     "output_type": "execute_result"
    }
   ],
   "source": [
    "from qiskit.quantum_info import Operator\n",
    "S = Operator([ [1,0],[0,1.j] ])\n",
    "v = v.evolve(S)\n",
    "v.draw('latex')"
   ]
  },
  {
   "cell_type": "code",
   "execution_count": 8,
   "id": "7e3d3951",
   "metadata": {},
   "outputs": [
    {
     "data": {
      "text/html": [
       "<pre style=\"word-wrap: normal;white-space: pre;background: #fff0;line-height: 1.1;font-family: &quot;Courier New&quot;,Courier,monospace\">   ┌───┐┌───┐┌───┐┌───┐┌───┐\n",
       "q: ┤ H ├┤ T ├┤ H ├┤ T ├┤ Z ├\n",
       "   └───┘└───┘└───┘└───┘└───┘</pre>"
      ],
      "text/plain": [
       "   ┌───┐┌───┐┌───┐┌───┐┌───┐\n",
       "q: ┤ H ├┤ T ├┤ H ├┤ T ├┤ Z ├\n",
       "   └───┘└───┘└───┘└───┘└───┘"
      ]
     },
     "execution_count": 8,
     "metadata": {},
     "output_type": "execute_result"
    }
   ],
   "source": [
    "from qiskit import QuantumCircuit\n",
    "\n",
    "circuit = QuantumCircuit(1)\n",
    "\n",
    "circuit.h(0)\n",
    "circuit.t(0)\n",
    "circuit.h(0)\n",
    "circuit.t(0)\n",
    "circuit.z(0)\n",
    "\n",
    "circuit.draw()"
   ]
  },
  {
   "cell_type": "code",
   "execution_count": 9,
   "id": "7a6d3679",
   "metadata": {},
   "outputs": [
    {
     "data": {
      "text/latex": [
       "$$(0.8535533906 + 0.3535533906 i) |0\\rangle+(-0.3535533906 + 0.1464466094 i) |1\\rangle$$"
      ],
      "text/plain": [
       "<IPython.core.display.Latex object>"
      ]
     },
     "execution_count": 9,
     "metadata": {},
     "output_type": "execute_result"
    }
   ],
   "source": [
    "ket0 = Statevector([1,0])\n",
    "v = ket0.evolve(circuit)\n",
    "v.draw('latex')"
   ]
  },
  {
   "cell_type": "markdown",
   "id": "e768f6dc",
   "metadata": {},
   "source": [
    "# Multiple systems\n",
    "## classical information\n",
    "Cartesian product\n",
    "$$\\Sigma \\times \\Gamma=\\{(a,b) \\ : a\\in\\Sigma \\ and \\ b\\in \\Gamma\\}$$\n",
    "Tensor products of vectors\n",
    "$$| \\psi \\rangle = \\sum_{a\\in \\sum}\\alpha_a | a \\rangle \\ and \\ | \\phi \\rangle = \\sum_{b\\in \\Gamma}\\beta_b | b \\rangle$$\n",
    "$$|\\psi\\rangle \\otimes | \\phi \\rangle = \\sum_{(a,b)\\in \\sum \\times \\Gamma} \\alpha_a \\beta_b | ab \\rangle$$\n",
    "$$\\left(\\begin{matrix}\n",
    "\\alpha_1 \\\\\n",
    "\\vdots \\\\\n",
    "\\alpha_m \\\\\n",
    "\\end{matrix}\n",
    "\\right)\\otimes\\left(\\begin{matrix}\n",
    "\\beta_1 \\\\\n",
    "\\vdots \\\\\n",
    "\\beta_k \\\\\n",
    "\\end{matrix}\n",
    "\\right)=\\left(\\begin{matrix}\n",
    "\\alpha_1 \\beta_1\\\\\n",
    "\\vdots \\\\\n",
    "\\alpha_1 \\beta_k \\\\\n",
    "\\alpha_2 \\beta_1 \\\\\n",
    "\\vdots \\\\\n",
    "\\alpha_2 \\beta_k \\\\\n",
    "\\vdots \\\\\n",
    "\\alpha_m \\beta_1 \\\\\n",
    "\\vdots \\\\\n",
    "\\alpha_m \\beta_k \\\\\n",
    "\\end{matrix}\n",
    "\\right)$$\n",
    "let $|\\pi \\rangle = | \\psi \\rangle \\otimes | \\phi \\rangle$, there is:\n",
    "$$\\langle ab | \\pi \\rangle = \\langle a| \\psi \\rangle \\langle b| \\phi \\rangle$$"
   ]
  },
  {
   "cell_type": "markdown",
   "id": "ab4feb21",
   "metadata": {},
   "source": [
    "## measurements\n",
    "measure one system X\n",
    "$$Pr(X=a)=\\sum_{b\\in\\Gamma}Pr((X,Y)=(a,b))$$\n",
    "on $X=a$\n",
    "$$Pr(Y=b|X=a)=\\frac{Pr((X,Y)=(a,b))}{Pr(X=a)}$$\n",
    "discribe in vector\n",
    "$$|\\phi\\rangle=\\sum_{(a,b)\\in\\Sigma\\times\\Gamma}p_{ab}|ab\\rangle$$\n",
    "$$Pr(X=a)=\\sum_{b\\in\\Gamma}p_{ab}$$\n",
    "the vector discribe X alone\n",
    "$$\\sum_{a\\in\\Sigma}(\\sum_{c\\in\\Gamma} p_ac)|a\\rangle$$\n",
    "X in a, the vector of Y\n",
    "$$|\\pi_a\\rangle=\\frac{\\sum_{b\\in\\Gamma} p_{ab}|b\\rangle}{\\sum_{c\\in\\Gamma}p_{ac}}$$"
   ]
  },
  {
   "cell_type": "markdown",
   "id": "a154eaa9",
   "metadata": {},
   "source": [
    "## operations\n",
    "we can use matrixs to change the state of the system"
   ]
  },
  {
   "cell_type": "markdown",
   "id": "bcf91fbc",
   "metadata": {},
   "source": [
    "## Tensor products of matrices\n",
    "$$M=\\sum_{a,b\\in\\Sigma}\\alpha_{ab}|a\\rangle\\langle b|$$\n",
    "$$N=\\sum_{c,d\\in\\Gamma}\\alpha_{cd}|c\\rangle\\langle d|$$\n",
    "$$M\\otimes N=\\sum_{a,b\\in\\Sigma}\\sum_{c,d\\in\\Gamma}\\alpha_{ab}\\beta_{cd}|ac\\rangle\\langle bd|$$\n",
    "defined by\n",
    "$$\\langle ac|M\\otimes N| bd\\rangle=\\langle a| M| b\\rangle\\langle c|N|d\\rangle$$\n",
    "$$(M\\otimes N)(|\\phi\\rangle\\otimes|\\psi\\rangle)=(M|\\phi\\rangle)\\otimes(N|\\psi\\rangle)$$\n",
    "矩阵的张量积就是M中各个元素与N中各元素相乘得一个矩阵，再将每个矩阵按M中元素的顺序组合\n"
   ]
  },
  {
   "cell_type": "markdown",
   "id": "ec0cefe3",
   "metadata": {},
   "source": [
    "## quantum information\n",
    "quantum states of multiple systems are represented by column vectors having complex number entries and Euclidean norm equal to 1\n",
    "\n",
    "the measures is similar to classic"
   ]
  },
  {
   "cell_type": "markdown",
   "id": "d64ce566",
   "metadata": {},
   "source": [
    "# unitary operations\n",
    "作用与量子系统的矩阵是unitary的\n",
    "作用于X的矩阵与作用于Y矩阵的张量积即为作用于XY系统的矩阵"
   ]
  },
  {
   "cell_type": "markdown",
   "id": "628974b0",
   "metadata": {},
   "source": [
    "## code"
   ]
  },
  {
   "cell_type": "code",
   "execution_count": 2,
   "id": "8bdefc59",
   "metadata": {},
   "outputs": [
    {
     "data": {
      "text/latex": [
       "$$ |01\\rangle$$"
      ],
      "text/plain": [
       "<IPython.core.display.Latex object>"
      ]
     },
     "execution_count": 2,
     "metadata": {},
     "output_type": "execute_result"
    }
   ],
   "source": [
    "from qiskit.quantum_info import Statevector, Operator\n",
    "\n",
    "# Tensor products\n",
    "zero, one = Statevector.from_label('0'), Statevector.from_label('1')\n",
    "zero.tensor(one).draw('latex')"
   ]
  },
  {
   "cell_type": "code",
   "execution_count": 6,
   "id": "0173ac76",
   "metadata": {},
   "outputs": [
    {
     "data": {
      "text/latex": [
       "$$\\frac{1}{2} |00\\rangle+\\frac{i}{2} |01\\rangle+\\frac{1}{2} |10\\rangle+\\frac{i}{2} |11\\rangle$$"
      ],
      "text/plain": [
       "<IPython.core.display.Latex object>"
      ]
     },
     "execution_count": 6,
     "metadata": {},
     "output_type": "execute_result"
    }
   ],
   "source": [
    "from numpy import sqrt\n",
    "plus = Statevector.from_label('+')\n",
    "i_state = Statevector([1/sqrt(2), 1j/sqrt(2)])\n",
    "\n",
    "psi = plus.tensor(i_state)\n",
    "psi.draw('latex')"
   ]
  },
  {
   "cell_type": "code",
   "execution_count": 4,
   "id": "50fea0d4",
   "metadata": {},
   "outputs": [
    {
     "data": {
      "text/plain": [
       "Operator([[0.+0.j, 0.+0.j, 1.+0.j, 0.+0.j],\n",
       "          [0.+0.j, 0.+0.j, 0.+0.j, 1.+0.j],\n",
       "          [1.+0.j, 0.+0.j, 0.+0.j, 0.+0.j],\n",
       "          [0.+0.j, 1.+0.j, 0.+0.j, 0.+0.j]],\n",
       "         input_dims=(2, 2), output_dims=(2, 2))"
      ]
     },
     "execution_count": 4,
     "metadata": {},
     "output_type": "execute_result"
    }
   ],
   "source": [
    "# operator\n",
    "X=Operator([[0, 1], [1, 0]])\n",
    "I=Operator([[1, 0], [0, 1]])\n",
    "X.tensor(I)"
   ]
  },
  {
   "cell_type": "code",
   "execution_count": 8,
   "id": "a11d98e4",
   "metadata": {},
   "outputs": [
    {
     "data": {
      "text/latex": [
       "$$\\frac{i}{2} |00\\rangle+\\frac{1}{2} |01\\rangle+\\frac{i}{2} |10\\rangle+\\frac{1}{2} |11\\rangle$$"
      ],
      "text/plain": [
       "<IPython.core.display.Latex object>"
      ]
     },
     "execution_count": 8,
     "metadata": {},
     "output_type": "execute_result"
    }
   ],
   "source": [
    "# use the operator\n",
    "psi.evolve(I ^ X).draw('latex')"
   ]
  },
  {
   "cell_type": "code",
   "execution_count": 9,
   "id": "c187163b",
   "metadata": {},
   "outputs": [
    {
     "data": {
      "text/latex": [
       "$$\\frac{1}{2} |00\\rangle+\\frac{i}{2} |01\\rangle+\\frac{i}{2} |10\\rangle+\\frac{1}{2} |11\\rangle$$"
      ],
      "text/plain": [
       "<IPython.core.display.Latex object>"
      ]
     },
     "execution_count": 9,
     "metadata": {},
     "output_type": "execute_result"
    }
   ],
   "source": [
    "CNOT = Operator([ [1, 0, 0, 0],\n",
    "                 [0, 1, 0, 0],\n",
    "                 [0, 0, 0, 1],\n",
    "                 [0, 0, 1, 0] ])\n",
    "\n",
    "psi.evolve(CNOT).draw('latex')"
   ]
  },
  {
   "cell_type": "code",
   "execution_count": 10,
   "id": "105acdea",
   "metadata": {},
   "outputs": [
    {
     "data": {
      "text/latex": [
       "$$\\frac{\\sqrt{3}}{3} |001\\rangle+\\frac{\\sqrt{3}}{3} |010\\rangle+\\frac{\\sqrt{3}}{3} |100\\rangle$$"
      ],
      "text/plain": [
       "<IPython.core.display.Latex object>"
      ]
     },
     "execution_count": 10,
     "metadata": {},
     "output_type": "execute_result"
    }
   ],
   "source": [
    "# partial measurements\n",
    "W = Statevector([0, 1, 1, 0, 1, 0, 0, 0]/sqrt(3))\n",
    "W.draw('latex')"
   ]
  },
  {
   "cell_type": "code",
   "execution_count": 14,
   "id": "04c29d82",
   "metadata": {},
   "outputs": [
    {
     "name": "stdout",
     "output_type": "stream",
     "text": [
      "Measured: 0\n",
      "State after measurement:\n"
     ]
    },
    {
     "data": {
      "text/latex": [
       "$$\\frac{\\sqrt{2}}{2} |010\\rangle+\\frac{\\sqrt{2}}{2} |100\\rangle$$"
      ],
      "text/plain": [
       "<IPython.core.display.Latex object>"
      ]
     },
     "execution_count": 14,
     "metadata": {},
     "output_type": "execute_result"
    }
   ],
   "source": [
    "result, new_sv = W.measure([0])  # measure qubit 0\n",
    "print(f'Measured: {result}\\nState after measurement:')\n",
    "new_sv.draw('latex')"
   ]
  },
  {
   "cell_type": "markdown",
   "id": "f6f7161c",
   "metadata": {},
   "source": [
    "# Quantum circuits"
   ]
  },
  {
   "cell_type": "code",
   "execution_count": 15,
   "id": "2afa1248",
   "metadata": {},
   "outputs": [
    {
     "data": {
      "text/html": [
       "<pre style=\"word-wrap: normal;white-space: pre;background: #fff0;line-height: 1.1;font-family: &quot;Courier New&quot;,Courier,monospace\">   ┌───┐┌───┐┌───┐\n",
       "q: ┤ H ├┤ S ├┤ T ├\n",
       "   └───┘└───┘└───┘</pre>"
      ],
      "text/plain": [
       "   ┌───┐┌───┐┌───┐\n",
       "q: ┤ H ├┤ S ├┤ T ├\n",
       "   └───┘└───┘└───┘"
      ]
     },
     "execution_count": 15,
     "metadata": {},
     "output_type": "execute_result"
    }
   ],
   "source": [
    "from qiskit import QuantumCircuit\n",
    "circuit = QuantumCircuit(1)\n",
    "circuit.h(0)\n",
    "circuit.s(0)\n",
    "circuit.t(0)\n",
    "circuit.draw()"
   ]
  },
  {
   "cell_type": "markdown",
   "id": "0b1aa270",
   "metadata": {},
   "source": [
    "## inner products\n",
    "$$\\langle \\psi |= (|\\psi\\rangle)^\\dagger$$\n",
    "$$\\langle \\psi|\\phi\\rangle = \\langle \\psi||\\phi\\rangle$$\n",
    "## unitary matrices\n",
    "\n",
    "1.the matrix U is unitary\n",
    "\n",
    "2.the rows/column of U form an orthonormal set\n",
    "## Projection matrices\n",
    "A square matrix $\\Pi$ is called a projection if it satisfies two properties:\n",
    "\n",
    "1.$\\Pi = \\Pi^\\dagger$\n",
    "2.$\\Pi^2 = \\Pi$\n",
    "\n",
    "and it could write:\n",
    "$$\\Pi=\\sum_{k=1}^m|\\psi_k\\rangle\\langle \\psi_k | $$"
   ]
  },
  {
   "cell_type": "markdown",
   "id": "a68def3f",
   "metadata": {},
   "source": [
    "# Projective measurements\n",
    "$$\\sum_m \\Pi_m = \\mathbb{1} $$\n",
    "the outcome of measurement\n",
    "$$Pr(outcome is k) = ||\\Pi_k |\\psi\\rangle||^2$$\n",
    "the state of X becomes\n",
    "$$\\frac{\\Pi_k|\\psi\\rangle}{||\\Pi_k|\\psi\\rangle||}$$\n",
    "we use \n",
    "$$M = \\sum_{k=1}^m|k\\rangle\\langle 1|\\otimes \\Pi_k$$\n",
    "on Y(1 is the state we choose arbitrarily, we can replace all of the remaining zero entries by some different choice of complex number entries so that the entire matrix is unitary)\n",
    "$$|k\\rangle \\otimes \\frac{\\Pi_k|\\psi\\rangle}{||\\Pi_k|\\psi\\rangle||}$$"
   ]
  },
  {
   "cell_type": "markdown",
   "id": "b164a843",
   "metadata": {},
   "source": [
    "## Limitations on quantum information\n",
    "we couldn't distinguish two state who differ by global phase for the probility we measure is always the same\n",
    "$$|\\phi\\rangle = \\alpha |\\psi\\rangle$$\n",
    "$$|\\langle a|\\phi\\rangle|^2 = |\\langle a|\\psi\\rangle|^2$$"
   ]
  },
  {
   "cell_type": "markdown",
   "id": "846f5e94",
   "metadata": {},
   "source": [
    "Let X and Y be systems sharing the same classical state set $\\Sigma$ having at least two elements. There does not exist a quantum state $|\\phi\\rangle$ of Y and a unitary operation U on the pair (X,Y) such that\n",
    "$$U(|\\psi\\rangle\\otimes|\\phi\\rangle)=|\\psi\\rangle\\otimes|\\psi\\rangle$$\n",
    "for every state $|\\psi\\rangle$ of X"
   ]
  },
  {
   "cell_type": "markdown",
   "id": "2914ebfe",
   "metadata": {},
   "source": [
    "Non-orthogonal states cannot be perfectly discriminated"
   ]
  },
  {
   "cell_type": "markdown",
   "id": "9caf35d7",
   "metadata": {},
   "source": [
    "# Entanglement in action\n",
    "## Teleportation\n",
    "Only when Alice and Bob share an e-bit, can they accomplish this work.\n",
    "\n",
    "cost:qubit Q be measured and the e-bit burned\n",
    "\n",
    "### analysis\n",
    "Q in state $\\alpha|0\\rangle + \\beta |1\\rangle$, e-bit:$|\\phi_+\\rangle$,\n",
    "the whole system \n",
    "$$|\\pi_0\\rangle=|\\phi_+\\rangle \\otimes(\\alpha|0\\rangle+\\beta |1\\rangle)=\\frac{\\alpha|000\\rangle+\\alpha|110\\rangle+\\beta|001\\rangle+\\beta|111\\rangle}{\\sqrt{2}}$$\n",
    "apply C-NOT gate\n",
    "$$|\\pi_1\\rangle=\\frac{\\alpha|000\\rangle+\\alpha|110\\rangle+\\beta|011\\rangle+\\beta|101\\rangle}{\\sqrt{2}}$$\n",
    "apply H gate\n",
    "$$|\\pi_2\\rangle=\\frac{\\alpha|00\\rangle|+\\rangle+\\alpha|11\\rangle|+\\rangle+\\beta|01\\rangle|-\\rangle+\\beta|10\\rangle|-\\rangle}{\\sqrt{2}}=\\frac{\\alpha|000\\rangle+\\alpha|001\\rangle+\\alpha|110\\rangle+\\alpha|111\\rangle+\\beta|010\\rangle-\\beta|011\\rangle+\\beta|100\\rangle-\\beta|101\\rangle}{2}$$\n",
    "it can be write\n",
    "$$|\\pi_2\\rangle=\\frac{1}{2}(\\alpha|0\\rangle+\\beta|1\\rangle)|00\\rangle\n",
    "+\\frac{1}{2}(\\alpha|0\\rangle-\\beta|1\\rangle)|01\\rangle \n",
    "+\\frac{1}{2}(\\alpha|1\\rangle+\\beta|0\\rangle)|10\\rangle \n",
    "+\\frac{1}{2}(\\alpha|1\\rangle-\\beta|0\\rangle)|11\\rangle $$\n",
    "while it's entangled with another system, the way is the same.\n",
    "### code"
   ]
  },
  {
   "cell_type": "code",
   "execution_count": 1,
   "id": "4704528c",
   "metadata": {},
   "outputs": [
    {
     "data": {
      "text/html": [
       "<pre style=\"word-wrap: normal;white-space: pre;background: #fff0;line-height: 1.1;font-family: &quot;Courier New&quot;,Courier,monospace\">              ░      ┌───┐ ░    ┌─┐ ░                         \n",
       "Q: ───────────░───■──┤ H ├─░────┤M├─░─────────────────────────\n",
       "   ┌───┐      ░ ┌─┴─┐└───┘ ░ ┌─┐└╥┘ ░                         \n",
       "A: ┤ H ├──■───░─┤ X ├──────░─┤M├─╫──░─────────────────────────\n",
       "   └───┘┌─┴─┐ ░ └───┘      ░ └╥┘ ║  ░ ┌──────────┐┌──────────┐\n",
       "B: ─────┤ X ├─░────────────░──╫──╫──░─┤0         ├┤0         ├\n",
       "        └───┘ ░            ░  ║  ║  ░ │  If_else ││          │\n",
       "a: ═══════════════════════════╩══╬════╡0         ╞╡          ╞\n",
       "                                 ║    └──────────┘│          │\n",
       "b: ══════════════════════════════╩════════════════╡0         ╞\n",
       "                                                  └──────────┘</pre>"
      ],
      "text/plain": [
       "              ░      ┌───┐ ░    ┌─┐ ░                         \n",
       "Q: ───────────░───■──┤ H ├─░────┤M├─░─────────────────────────\n",
       "   ┌───┐      ░ ┌─┴─┐└───┘ ░ ┌─┐└╥┘ ░                         \n",
       "A: ┤ H ├──■───░─┤ X ├──────░─┤M├─╫──░─────────────────────────\n",
       "   └───┘┌─┴─┐ ░ └───┘      ░ └╥┘ ║  ░ ┌──────────┐┌──────────┐\n",
       "B: ─────┤ X ├─░────────────░──╫──╫──░─┤0         ├┤0         ├\n",
       "        └───┘ ░            ░  ║  ║  ░ │  If_else ││          │\n",
       "a: ═══════════════════════════╩══╬════╡0         ╞╡          ╞\n",
       "                                 ║    └──────────┘│          │\n",
       "b: ══════════════════════════════╩════════════════╡0         ╞\n",
       "                                                  └──────────┘"
      ]
     },
     "metadata": {},
     "output_type": "display_data"
    }
   ],
   "source": [
    "from qiskit import QuantumCircuit, QuantumRegister, ClassicalRegister\n",
    "from qiskit_aer import AerSimulator\n",
    "from qiskit.visualization import plot_histogram\n",
    "from qiskit.result import marginal_distribution\n",
    "from qiskit.circuit.library import UGate\n",
    "from numpy import pi, random\n",
    "\n",
    "qubit = QuantumRegister(1, \"Q\")\n",
    "ebit0 = QuantumRegister(1, \"A\")\n",
    "ebit1 = QuantumRegister(1, \"B\")\n",
    "a = ClassicalRegister(1, \"a\")\n",
    "b = ClassicalRegister(1, \"b\")\n",
    "\n",
    "protocol = QuantumCircuit(qubit, ebit0, ebit1, a, b)\n",
    "\n",
    "# entangle A and B\n",
    "protocol.h(ebit0)\n",
    "protocol.cx(ebit0, ebit1)\n",
    "protocol.barrier()\n",
    "\n",
    "# Alice's opertions\n",
    "protocol.cx(qubit, ebit0)\n",
    "protocol.h(qubit)\n",
    "protocol.barrier()\n",
    "\n",
    "protocol.measure(ebit0, a)\n",
    "protocol.measure(qubit, b)\n",
    "protocol.barrier()\n",
    "\n",
    "with protocol.if_test((a, 1)):\n",
    "    protocol.x(ebit1)\n",
    "with protocol.if_test((b, 1)):\n",
    "    protocol.z(ebit1)\n",
    "    \n",
    "display(protocol.draw())"
   ]
  },
  {
   "cell_type": "code",
   "execution_count": 4,
   "id": "51772f7b",
   "metadata": {},
   "outputs": [
    {
     "data": {
      "text/html": [
       "<pre style=\"word-wrap: normal;white-space: pre;background: #fff0;line-height: 1.1;font-family: &quot;Courier New&quot;,Courier,monospace\">        ┌────────────────────────┐ ░            ░      ┌───┐ ░    ┌─┐ ░ »\n",
       "     Q: ┤ U(4.889,1.9623,4.0998) ├─░────────────░───■──┤ H ├─░────┤M├─░─»\n",
       "        └────────────────────────┘ ░ ┌───┐      ░ ┌─┴─┐└───┘ ░ ┌─┐└╥┘ ░ »\n",
       "     A: ───────────────────────────░─┤ H ├──■───░─┤ X ├──────░─┤M├─╫──░─»\n",
       "                                   ░ └───┘┌─┴─┐ ░ └───┘      ░ └╥┘ ║  ░ »\n",
       "     B: ───────────────────────────░──────┤ X ├─░────────────░──╫──╫──░─»\n",
       "                                   ░      └───┘ ░            ░  ║  ║  ░ »\n",
       "     a: ════════════════════════════════════════════════════════╩══╬════»\n",
       "                                                                   ║    »\n",
       "     b: ═══════════════════════════════════════════════════════════╩════»\n",
       "                                                                        »\n",
       "Result: ════════════════════════════════════════════════════════════════»\n",
       "                                                                        »\n",
       "«                                 ░                                 \n",
       "«     Q: ─────────────────────────░─────────────────────────────────\n",
       "«                                 ░                                 \n",
       "«     A: ─────────────────────────░─────────────────────────────────\n",
       "«        ┌──────────┐┌──────────┐ ░ ┌───────────────────────────┐┌─┐\n",
       "«     B: ┤0         ├┤0         ├─░─┤ U(-4.889,-4.0998,-1.9623) ├┤M├\n",
       "«        │  If_else ││          │ ░ └───────────────────────────┘└╥┘\n",
       "«     a: ╡0         ╞╡          ╞═════════════════════════════════╬═\n",
       "«        └──────────┘│          │                                 ║ \n",
       "«     b: ════════════╡0         ╞═════════════════════════════════╬═\n",
       "«                    └──────────┘                                 ║ \n",
       "«Result: ═════════════════════════════════════════════════════════╩═\n",
       "«                                                                   </pre>"
      ],
      "text/plain": [
       "        ┌────────────────────────┐ ░            ░      ┌───┐ ░    ┌─┐ ░ »\n",
       "     Q: ┤ U(4.889,1.9623,4.0998) ├─░────────────░───■──┤ H ├─░────┤M├─░─»\n",
       "        └────────────────────────┘ ░ ┌───┐      ░ ┌─┴─┐└───┘ ░ ┌─┐└╥┘ ░ »\n",
       "     A: ───────────────────────────░─┤ H ├──■───░─┤ X ├──────░─┤M├─╫──░─»\n",
       "                                   ░ └───┘┌─┴─┐ ░ └───┘      ░ └╥┘ ║  ░ »\n",
       "     B: ───────────────────────────░──────┤ X ├─░────────────░──╫──╫──░─»\n",
       "                                   ░      └───┘ ░            ░  ║  ║  ░ »\n",
       "     a: ════════════════════════════════════════════════════════╩══╬════»\n",
       "                                                                   ║    »\n",
       "     b: ═══════════════════════════════════════════════════════════╩════»\n",
       "                                                                        »\n",
       "Result: ════════════════════════════════════════════════════════════════»\n",
       "                                                                        »\n",
       "«                                 ░                                 \n",
       "«     Q: ─────────────────────────░─────────────────────────────────\n",
       "«                                 ░                                 \n",
       "«     A: ─────────────────────────░─────────────────────────────────\n",
       "«        ┌──────────┐┌──────────┐ ░ ┌───────────────────────────┐┌─┐\n",
       "«     B: ┤0         ├┤0         ├─░─┤ U(-4.889,-4.0998,-1.9623) ├┤M├\n",
       "«        │  If_else ││          │ ░ └───────────────────────────┘└╥┘\n",
       "«     a: ╡0         ╞╡          ╞═════════════════════════════════╬═\n",
       "«        └──────────┘│          │                                 ║ \n",
       "«     b: ════════════╡0         ╞═════════════════════════════════╬═\n",
       "«                    └──────────┘                                 ║ \n",
       "«Result: ═════════════════════════════════════════════════════════╩═\n",
       "«                                                                   "
      ]
     },
     "metadata": {},
     "output_type": "display_data"
    }
   ],
   "source": [
    "# give Q a state\n",
    "random_gate = UGate(\n",
    "    theta=random.random()*2*pi,\n",
    "    phi=random.random()*2*pi,\n",
    "    lam=random.random()*2*pi,\n",
    ")\n",
    "\n",
    "# create test circuit\n",
    "test = QuantumCircuit(qubit, ebit0, ebit1, a, b)\n",
    "\n",
    "test.append(random_gate, qubit)\n",
    "test.barrier()\n",
    "\n",
    "test=test.compose(protocol)\n",
    "test.barrier()\n",
    "\n",
    "# apply the inverse of random_gate, and if the result be 0,\n",
    "# we achieve it\n",
    "test.append(random_gate.inverse(), ebit1)\n",
    "\n",
    "result=ClassicalRegister(1, \"Result\")\n",
    "test.add_register(result)\n",
    "test.measure(ebit1, result)\n",
    "\n",
    "display(test.draw())"
   ]
  },
  {
   "cell_type": "code",
   "execution_count": 5,
   "id": "5bbccf8a",
   "metadata": {},
   "outputs": [
    {
     "data": {
      "image/png": "[encoded data removed]",
      "text/plain": [
       "<Figure size 700x500 with 1 Axes>"
      ]
     },
     "metadata": {},
     "output_type": "display_data"
    }
   ],
   "source": [
    "result=AerSimulator().run(test).result()\n",
    "statistics=result.get_counts()\n",
    "display(plot_histogram(statistics))"
   ]
  },
  {
   "cell_type": "code",
   "execution_count": 6,
   "id": "8c3a1073",
   "metadata": {},
   "outputs": [
    {
     "data": {
      "image/png": "[encoded data removed]",
      "text/plain": [
       "<Figure size 700x500 with 1 Axes>"
      ]
     },
     "metadata": {},
     "output_type": "display_data"
    }
   ],
   "source": [
    "# filter\n",
    "filtered_statistics=marginal_distribution(statistics, [2])\n",
    "display(plot_histogram(filtered_statistics))"
   ]
  },
  {
   "cell_type": "code",
   "execution_count": null,
   "id": "a9bd938c",
   "metadata": {},
   "outputs": [],
   "source": []
  }
 ],
 "metadata": {
  "kernelspec": {
   "display_name": "Python 3 (ipykernel)",
   "language": "python",
   "name": "python3"
  },
  "language_info": {
   "codemirror_mode": {
    "name": "ipython",
    "version": 3
   },
   "file_extension": ".py",
   "mimetype": "text/x-python",
   "name": "python",
   "nbconvert_exporter": "python",
   "pygments_lexer": "ipython3",
   "version": "3.11.4"
  }
 },
 "nbformat": 4,
 "nbformat_minor": 5
}
