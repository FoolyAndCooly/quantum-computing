{
 "cells": [
  {
   "cell_type": "markdown",
   "id": "d804c4ed",
   "metadata": {},
   "source": [
    "# Introduction\n",
    "## create an adder circuit"
   ]
  },
  {
   "cell_type": "code",
   "execution_count": 1,
   "id": "d2836f33",
   "metadata": {},
   "outputs": [
    {
     "data": {
      "text/html": [
       "<pre style=\"word-wrap: normal;white-space: pre;background: #fff0;line-height: 1.1;font-family: &quot;Courier New&quot;,Courier,monospace\">     ┌───┐                     \n",
       "q_0: ┤ X ├──■─────────■────────\n",
       "     ├───┤  │         │        \n",
       "q_1: ┤ X ├──┼────■────■────────\n",
       "     └───┘┌─┴─┐┌─┴─┐  │  ┌─┐   \n",
       "q_2: ─────┤ X ├┤ X ├──┼──┤M├───\n",
       "          └───┘└───┘┌─┴─┐└╥┘┌─┐\n",
       "q_3: ───────────────┤ X ├─╫─┤M├\n",
       "                    └───┘ ║ └╥┘\n",
       "c: 2/═════════════════════╩══╩═\n",
       "                          0  1 </pre>"
      ],
      "text/plain": [
       "     ┌───┐                     \n",
       "q_0: ┤ X ├──■─────────■────────\n",
       "     ├───┤  │         │        \n",
       "q_1: ┤ X ├──┼────■────■────────\n",
       "     └───┘┌─┴─┐┌─┴─┐  │  ┌─┐   \n",
       "q_2: ─────┤ X ├┤ X ├──┼──┤M├───\n",
       "          └───┘└───┘┌─┴─┐└╥┘┌─┐\n",
       "q_3: ───────────────┤ X ├─╫─┤M├\n",
       "                    └───┘ ║ └╥┘\n",
       "c: 2/═════════════════════╩══╩═\n",
       "                          0  1 "
      ]
     },
     "execution_count": 1,
     "metadata": {},
     "output_type": "execute_result"
    }
   ],
   "source": [
    "from qiskit import QuantumCircuit\n",
    "from qiskit.providers.aer import AerSimulator\n",
    "\n",
    "#make new simulator\n",
    "sim = AerSimulator()\n",
    "\n",
    "# create 4 qubits and 2 classical bits\n",
    "test_qc = QuantumCircuit(4, 2)\n",
    "\n",
    "# encode an input\n",
    "test_qc.x(0)\n",
    "test_qc.x(1)\n",
    "\n",
    "# create the adder circuit\n",
    "test_qc.cx(0,2)\n",
    "test_qc.cx(1,2)\n",
    "test_qc.ccx(0,1,3)\n",
    "\n",
    "# measure the bottom two qubits to extract the output\n",
    "test_qc.measure(2,0)\n",
    "test_qc.measure(3,1)\n",
    "test_qc.draw()"
   ]
  },
  {
   "cell_type": "code",
   "execution_count": 2,
   "id": "f667a0dc",
   "metadata": {},
   "outputs": [
    {
     "data": {
      "text/plain": [
       "{'10': 1024}"
      ]
     },
     "execution_count": 2,
     "metadata": {},
     "output_type": "execute_result"
    }
   ],
   "source": [
    "job = sim.run(test_qc)\n",
    "result = job.result()\n",
    "result.get_counts()"
   ]
  },
  {
   "cell_type": "markdown",
   "id": "cc8f1f02",
   "metadata": {},
   "source": [
    "## State vectors\n",
    "$$\\left | x \\right \\rangle=\n",
    " \\left[\n",
    " \\begin{matrix}\n",
    "   \\sqrt{\\frac{1}{2}} \\\\\n",
    "   \\sqrt{\\frac{1}{2}}\\\\\n",
    "   0 \\\\\n",
    "   0 \\\\\n",
    "  \\end{matrix}\n",
    "  \\right]\n",
    "$$\n",
    "这样的向量表示00态振幅为$\\sqrt{\\frac{1}{2}}$概率为1/2,01态同理。\n",
    "$$\\left | 00 \\right \\rangle=\n",
    " \\left[\n",
    " \\begin{matrix}\n",
    "   1 \\\\\n",
    "   0\\\\\n",
    "   0 \\\\\n",
    "   0 \\\\\n",
    "  \\end{matrix}\n",
    "  \\right]，\n",
    "  \\left | 01 \\right \\rangle=\n",
    " \\left[\n",
    " \\begin{matrix}\n",
    "   0 \\\\\n",
    "   1 \\\\\n",
    "   0 \\\\\n",
    "   0 \\\\\n",
    "  \\end{matrix}\n",
    "  \\right]\n",
    "$$\n",
    "$$ \\left | x \\right \\rangle = \\sqrt{\\frac{1}{2}}(\\left | 00 \\right \\rangle + \\left | 01 \\right \\rangle)$$\n",
    "$\\left | 00 \\right \\rangle$和$\\left | 01 \\right \\rangle$是$\\left | x \\right \\rangle$的两个基矢，$\\left | x \\right \\rangle$在两个基矢上的投影都是$\\sqrt{\\frac{1}{2}}$\n",
    "$$\\left | + \\right \\rangle = \n",
    "\\sqrt{\\frac{1}{2}} \\left[\n",
    "\\begin{matrix}\n",
    "  1 \\\\\n",
    "  1 \\\\\n",
    "\\end{matrix}\n",
    "\\right],\n",
    "\\left | - \\right \\rangle = \n",
    "\\sqrt{\\frac{1}{2}} \\left[\n",
    "\\begin{matrix}\n",
    "  1 \\\\\n",
    "  -1 \\\\\n",
    "\\end{matrix}\n",
    "\\right]\n",
    "$$\n"
   ]
  },
  {
   "cell_type": "markdown",
   "id": "93f9e436",
   "metadata": {},
   "source": [
    "## operations"
   ]
  },
  {
   "cell_type": "markdown",
   "id": "5f253892",
   "metadata": {},
   "source": [
    " $$CNOT = \\left[\n",
    " \\begin{matrix}\n",
    "   1 & 0 & 0 & 0 \\\\\n",
    "   0 & 0 & 0 & 1\\\\\n",
    "   0 & 0 & 1 & 0 \\\\\n",
    "   0 & 1 & 0 & 0 \\\\\n",
    "  \\end{matrix}\n",
    "  \\right],\n",
    "  H = \\sqrt{\\frac{1}{2}}\\left[\n",
    "  \\begin{matrix}\n",
    "  1 & 1 \\\\\n",
    "   1 & -1 \\\\\n",
    "  \\end{matrix}\n",
    "  \\right]$$"
   ]
  },
  {
   "cell_type": "markdown",
   "id": "e71aed52",
   "metadata": {},
   "source": [
    "## entangled states\n",
    "The entangled states couldn't simply discribe by two single qubit states\n",
    "$$\\left | \\Phi^+ \\right \\rangle=\n",
    " \\sqrt{\\frac{1}{2}}\\left[\n",
    " \\begin{matrix}\n",
    "   1 \\\\\n",
    "   0\\\\\n",
    "   0 \\\\\n",
    "   1 \\\\\n",
    "  \\end{matrix}\n",
    "  \\right]$$"
   ]
  },
  {
   "cell_type": "markdown",
   "id": "fd24598f",
   "metadata": {},
   "source": [
    "## Entangling gates"
   ]
  },
  {
   "cell_type": "markdown",
   "id": "66105e51",
   "metadata": {},
   "source": [
    "create $\\left | \\Phi^+ \\right \\rangle$"
   ]
  },
  {
   "cell_type": "code",
   "execution_count": 3,
   "id": "250aa5d6",
   "metadata": {},
   "outputs": [
    {
     "data": {
      "text/html": [
       "<pre style=\"word-wrap: normal;white-space: pre;background: #fff0;line-height: 1.1;font-family: &quot;Courier New&quot;,Courier,monospace\">          ┌───┐\n",
       "q_0: ─────┤ X ├\n",
       "     ┌───┐└─┬─┘\n",
       "q_1: ┤ H ├──■──\n",
       "     └───┘     </pre>"
      ],
      "text/plain": [
       "          ┌───┐\n",
       "q_0: ─────┤ X ├\n",
       "     ┌───┐└─┬─┘\n",
       "q_1: ┤ H ├──■──\n",
       "     └───┘     "
      ]
     },
     "execution_count": 3,
     "metadata": {},
     "output_type": "execute_result"
    }
   ],
   "source": [
    "from qiskit import QuantumCircuit\n",
    "from qiskit.quantum_info import Statevector\n",
    "\n",
    "qc = QuantumCircuit(2)\n",
    "\n",
    "qc.h(1)\n",
    "qc.cx(1, 0) # control is qubit1\n",
    "qc.draw()"
   ]
  },
  {
   "cell_type": "code",
   "execution_count": 4,
   "id": "a99aa843",
   "metadata": {},
   "outputs": [
    {
     "data": {
      "text/plain": [
       "'Statevector([0.70710678+0.j, 0.        +0.j, 0.        +0.j,\\n             0.70710678+0.j],\\n            dims=(2, 2))'"
      ]
     },
     "execution_count": 4,
     "metadata": {},
     "output_type": "execute_result"
    }
   ],
   "source": [
    "ket = Statevector(qc)\n",
    "ket.draw()"
   ]
  },
  {
   "cell_type": "markdown",
   "id": "64ee7cb7",
   "metadata": {},
   "source": [
    "## The power of entanglement\n",
    "### why the entanglement powerful\n",
    "\n",
    "we need to keep track up $2^n$ amplitudes to fully describe the state of n qubits. if they don't be entangled what means each qubits is indepent and we just need $2n$ amplitudes to discribe them.\n",
    "\n",
    "### example\n",
    "we can use one qubit to sent two bit message, suppose we have two people: Alice and Bob.Alice wishes to send a two bit message to Bob and wants to do it by sending qubits.And we imagine a third party charlie, whose job is just to create a entangled state and send the qubits out."
   ]
  },
  {
   "cell_type": "code",
   "execution_count": 5,
   "id": "584a72da",
   "metadata": {},
   "outputs": [
    {
     "data": {
      "text/html": [
       "<pre style=\"word-wrap: normal;white-space: pre;background: #fff0;line-height: 1.1;font-family: &quot;Courier New&quot;,Courier,monospace\">          ┌───┐\n",
       "q_0: ─────┤ X ├\n",
       "     ┌───┐└─┬─┘\n",
       "q_1: ┤ H ├──■──\n",
       "     └───┘     \n",
       "c: 2/══════════\n",
       "               </pre>"
      ],
      "text/plain": [
       "          ┌───┐\n",
       "q_0: ─────┤ X ├\n",
       "     ┌───┐└─┬─┘\n",
       "q_1: ┤ H ├──■──\n",
       "     └───┘     \n",
       "c: 2/══════════\n",
       "               "
      ]
     },
     "execution_count": 5,
     "metadata": {},
     "output_type": "execute_result"
    }
   ],
   "source": [
    "qc_charlie = QuantumCircuit(2,2)\n",
    "\n",
    "qc_charlie.h(1)\n",
    "qc_charlie.cx(1,0)\n",
    "\n",
    "qc_charlie.draw()"
   ]
  },
  {
   "cell_type": "code",
   "execution_count": 6,
   "id": "48b2825a",
   "metadata": {},
   "outputs": [],
   "source": [
    "MESSAGE = '01'\n",
    "\n",
    "qc_alice = QuantumCircuit(2,2)\n",
    "\n",
    "if MESSAGE[-2] == '1':\n",
    "    qc_alice.z(1)\n",
    "if MESSAGE[-1] == '1':\n",
    "    qc_alice.x(1)"
   ]
  },
  {
   "cell_type": "code",
   "execution_count": 7,
   "id": "1316d5e4",
   "metadata": {},
   "outputs": [
    {
     "data": {
      "text/html": [
       "<pre style=\"word-wrap: normal;white-space: pre;background: #fff0;line-height: 1.1;font-family: &quot;Courier New&quot;,Courier,monospace\">     ┌───┐     ┌─┐   \n",
       "q_0: ┤ X ├─────┤M├───\n",
       "     └─┬─┘┌───┐└╥┘┌─┐\n",
       "q_1: ──■──┤ H ├─╫─┤M├\n",
       "          └───┘ ║ └╥┘\n",
       "c: 2/═══════════╩══╩═\n",
       "                0  1 </pre>"
      ],
      "text/plain": [
       "     ┌───┐     ┌─┐   \n",
       "q_0: ┤ X ├─────┤M├───\n",
       "     └─┬─┘┌───┐└╥┘┌─┐\n",
       "q_1: ──■──┤ H ├─╫─┤M├\n",
       "          └───┘ ║ └╥┘\n",
       "c: 2/═══════════╩══╩═\n",
       "                0  1 "
      ]
     },
     "execution_count": 7,
     "metadata": {},
     "output_type": "execute_result"
    }
   ],
   "source": [
    "qc_bob = QuantumCircuit(2,2)\n",
    "\n",
    "qc_bob.cx(1,0)\n",
    "qc_bob.h(1)\n",
    "\n",
    "qc_bob.measure([0,1],[0,1])\n",
    "\n",
    "qc_bob.draw()"
   ]
  },
  {
   "cell_type": "code",
   "execution_count": 9,
   "id": "937e5cd8",
   "metadata": {},
   "outputs": [
    {
     "data": {
      "text/plain": [
       "{'01': 1024}"
      ]
     },
     "execution_count": 9,
     "metadata": {},
     "output_type": "execute_result"
    }
   ],
   "source": [
    "# simulate\n",
    "from qiskit import Aer\n",
    "backend = Aer.get_backend('aer_simulator')\n",
    "\n",
    "# compose the circuit each one create\n",
    "complete_qc = qc_charlie.compose(qc_alice.compose(qc_bob))\n",
    "backend.run(complete_qc).result().get_counts()"
   ]
  },
  {
   "cell_type": "markdown",
   "id": "c8519dcb",
   "metadata": {},
   "source": [
    "in all, alice could use z or x state at one qubit to get four entangled states which makes alice send two bits' maeeage with just one qubit."
   ]
  },
  {
   "cell_type": "markdown",
   "id": "24736d94",
   "metadata": {},
   "source": [
    "## The Hardy paradox\n",
    "  There are limits on the kind of correlations possible with classical system.Wecan apply chains of logic, which use the results of ane to deduce things about other.\n",
    "  \n",
    "  But for qubits, the two features is not independent, there is the uncertainty principle.We using $\\left | 0 \\right \\rangle$ and $\\left | 1 \\right \\rangle $ states to encode the bit values 0 and 1 and measured by z measurement(measure directly), using $\\left | + \\right \\rangle$ and $\\left | - \\right \\rangle $ states to encode and measured by x measurement(using H gate and then measure).We define a quantity$\\left \\langle Z \\right \\rangle  = p_z(0) - p_z(1)$,$p_z(0)$ is the probability of 0.There is$$\\left \\langle Z \\right \\rangle^2 + \\left \\langle X \\right \\rangle^2 \\le 1$$\n",
    "  which different from classical is that we use different gates on qubit to measure different feature."
   ]
  },
  {
   "cell_type": "markdown",
   "id": "52c68afe",
   "metadata": {},
   "source": [
    "## Visualizing Entanglement"
   ]
  },
  {
   "cell_type": "code",
   "execution_count": 18,
   "id": "d9a4601d",
   "metadata": {},
   "outputs": [],
   "source": [
    "from qiskit_textbook.games import hello_quantum\n",
    "exercises = {\n",
    "    'initialize': [],\n",
    "    'success_condition': {},\n",
    "    'allowed_gates': {'0': {'x': 3}, '1': {}, 'both': {}},\n",
    "    'vi': [[1], True, False],\n",
    "    'mode': 'line',\n",
    "    'qubit_names': {'0':'q[0]', '1':'q[1]'}\n",
    "}\n",
    "def run_puzzle():\n",
    "    puzzle = hello_quantum.run_game(exercises['initialize'],\n",
    "                           exercises['success_condition'],\n",
    "                           exercises['allowed_gates'],\n",
    "                           exercises['vi'],\n",
    "                           qubit_names=exercises['qubit_names'],\n",
    "                           mode=exercises['mode']\n",
    "                          )\n",
    "    return puzzle"
   ]
  },
  {
   "cell_type": "code",
   "execution_count": 20,
   "id": "12377b96",
   "metadata": {},
   "outputs": [
    {
     "data": {
      "application/vnd.jupyter.widget-view+json": {
       "model_id": "107383d6cffa4260862b6080d2d8ffa5",
       "version_major": 2,
       "version_minor": 0
      },
      "text/plain": [
       "Image(value=b'\\x89PNG\\r\\n\\x1a\\n\\x00\\x00\\x00\\rIHDR\\x00\\x00\\x02X\\x00\\x00\\x02X\\x08\\x06\\x00\\x00\\x00\\xbef\\x98\\xdc\\x…"
      ]
     },
     "metadata": {},
     "output_type": "display_data"
    },
    {
     "data": {
      "application/vnd.jupyter.widget-view+json": {
       "model_id": "c099a8d86e1e4abf980b54b876f67d94",
       "version_major": 2,
       "version_minor": 0
      },
      "text/plain": [
       "VBox(children=(ToggleButtons(options=('Choose gate', 'x'), value='Choose gate'), ToggleButtons(options=('',), …"
      ]
     },
     "metadata": {},
     "output_type": "display_data"
    }
   ],
   "source": [
    "puzzle = run_puzzle()"
   ]
  },
  {
   "cell_type": "markdown",
   "id": "80b30372",
   "metadata": {},
   "source": [
    "For I don't have python file hello_qiskit.py in my environment, and I couldn't find it . so this chapter will not have code anymore.\n",
    "\n",
    "The vertical one represents standard measurements (also known as 'z measurements'), and the horizontal one represents the 'x measurements' "
   ]
  },
  {
   "cell_type": "markdown",
   "id": "16453fab",
   "metadata": {},
   "source": [
    "## Bell's Inequalities"
   ]
  },
  {
   "cell_type": "code",
   "execution_count": 1,
   "id": "19f7ceda",
   "metadata": {},
   "outputs": [
    {
     "name": "stdout",
     "output_type": "stream",
     "text": [
      "{'VV': 0.2506103515625, 'VH': 0.0, 'HV': 0.615966796875, 'HH': 0.369384765625}\n"
     ]
    }
   ],
   "source": [
    "import random\n",
    "def setup_variables():\n",
    "    \n",
    "    ### Replace this section with anything you want ###\n",
    "    \n",
    "    r = random.random()\n",
    "    \n",
    "    A = r*(2/3)\n",
    "    B = r*(1/3)\n",
    "    \n",
    "    ### End of section ###\n",
    "    \n",
    "    return A, B\n",
    "\n",
    "\n",
    "def hash2bit(variable, hash_type):\n",
    "    \n",
    "    ### Replace this section with anything you want ###\n",
    "    \n",
    "    if hash_type == 'V':\n",
    "        bit = (variable < 0.5)\n",
    "    elif hash_type == 'H':\n",
    "        bit = (variable < 0.25)\n",
    "        \n",
    "    bit = str(int(bit)) # Turn True or False into '1' and '0'\n",
    "    \n",
    "    ### End of section ###\n",
    "        \n",
    "    return bit\n",
    "\n",
    "shots = 8192\n",
    "def calculate_P():\n",
    "    P = {}\n",
    "    for hashes in ['VV','VH','HV','HH']:\n",
    "        \n",
    "        # calculate each P[hashes] by sampling over `shots` samples\n",
    "        P[hashes] = 0\n",
    "        for shot in range(shots):\n",
    "\n",
    "            A, B = setup_variables()\n",
    "\n",
    "            # hash type for variable `A` is the 1st character of `hashes`\n",
    "            a = hash2bit(A, hashes[0])\n",
    "            # hash type for variable `B` is the 2nd character of `hashes`\n",
    "            b = hash2bit(B, hashes[1])\n",
    "\n",
    "            P[hashes] += (a != b)/shots\n",
    " \n",
    "    return P\n",
    "\n",
    "P = calculate_P()\n",
    "print(P)"
   ]
  },
  {
   "cell_type": "markdown",
   "id": "fdaa639b",
   "metadata": {},
   "source": [
    "There is $$P['HH'] \\le P['HV'] + P['VH'] + P['VV']$$\n",
    "For qubits, it's quite different.One reason is that we don't know the result of hashes before we actually do it. The other reason is that the results is contextual. So we can't make assumption like classical."
   ]
  },
  {
   "cell_type": "markdown",
   "id": "de9608a8",
   "metadata": {},
   "source": [
    "## Grover's search algorithm\n",
    "\n",
    "所有的解构成一个向量\n",
    "$$\\left | \\surd  \\right \\rangle  = \\frac{1}{\\sqrt{3}}(\\left | 000 \\right \\rangle + \\left | 011 \\right \\rangle + \\left | 101 \\right \\rangle)$$\n",
    "其他情况构成另一个向量\n",
    "$$\\left | X \\right \\rangle  = \\frac{1}{\\sqrt{3}}(\\left | 001 \\right \\rangle + \\left | 010 \\right \\rangle + \\left | 100 \\right \\rangle + \\left | 110 \\right \\rangle + \\left | 111 \\right \\rangle)$$\n",
    "我们给定一个初始状态$\\left | s \\right \\rangle$,该初始状态表示所有可能情况，\n",
    "在解为解空间很小一部分时，$\\left | s \\right \\rangle$非常接近$\\left | X \\right \\rangle$,接下来根据$\\left | X \\right \\rangle$对$\\left | s \\right \\rangle$进行翻转，再将翻转的向量根据$\\left | s \\right \\rangle$进行翻转，重复直到所得的向量接近$\\left | \\surd \\right \\rangle$。\n",
    "\n",
    "在这里初始$\\left | s \\right \\rangle$与$\\left | X \\right \\rangle$的夹角是$\\frac{1}{\\sqrt{N}}$, 此后每次翻转增加的角度为$\\frac{2}{\\sqrt{N}}$,而$\\left | \\surd  \\right \\rangle$与$\\left | X \\right \\rangle$向量相互垂直。\n",
    "\n",
    "下面是电路实现"
   ]
  },
  {
   "cell_type": "code",
   "execution_count": 9,
   "id": "e7488efb",
   "metadata": {},
   "outputs": [
    {
     "data": {
      "text/html": [
       "<pre style=\"word-wrap: normal;white-space: pre;background: #fff0;line-height: 1.1;font-family: &quot;Courier New&quot;,Courier,monospace\">        ┌───┐   ┌───┐┌───┐   ┌───┐┌───┐ ░ ┌─┐   \n",
       "   q_0: ┤ H ├─■─┤ H ├┤ X ├─■─┤ X ├┤ H ├─░─┤M├───\n",
       "        ├───┤ │ ├───┤├───┤ │ ├───┤├───┤ ░ └╥┘┌─┐\n",
       "   q_1: ┤ H ├─■─┤ H ├┤ X ├─■─┤ X ├┤ H ├─░──╫─┤M├\n",
       "        └───┘   └───┘└───┘   └───┘└───┘ ░  ║ └╥┘\n",
       "meas: 2/═══════════════════════════════════╩══╩═\n",
       "                                           0  1 </pre>"
      ],
      "text/plain": [
       "        ┌───┐   ┌───┐┌───┐   ┌───┐┌───┐ ░ ┌─┐   \n",
       "   q_0: ┤ H ├─■─┤ H ├┤ X ├─■─┤ X ├┤ H ├─░─┤M├───\n",
       "        ├───┤ │ ├───┤├───┤ │ ├───┤├───┤ ░ └╥┘┌─┐\n",
       "   q_1: ┤ H ├─■─┤ H ├┤ X ├─■─┤ X ├┤ H ├─░──╫─┤M├\n",
       "        └───┘   └───┘└───┘   └───┘└───┘ ░  ║ └╥┘\n",
       "meas: 2/═══════════════════════════════════╩══╩═\n",
       "                                           0  1 "
      ]
     },
     "execution_count": 9,
     "metadata": {},
     "output_type": "execute_result"
    }
   ],
   "source": [
    "from qiskit import QuantumCircuit\n",
    "\n",
    "oracle = QuantumCircuit(2)\n",
    "oracle.cz(0, 1) # the solve is 11, in will only flips state 11\n",
    "\n",
    "diffuser = QuantumCircuit(2)\n",
    "diffuser.h([0, 1])\n",
    "diffuser.x([0, 1])\n",
    "diffuser.cz(0,1)\n",
    "diffuser.x([0,1])\n",
    "diffuser.h([0,1])\n",
    "\n",
    "# create s\n",
    "grover = QuantumCircuit(2)\n",
    "grover.h([0, 1])\n",
    "\n",
    "grover = grover.compose(oracle)\n",
    "grover = grover.compose(diffuser)\n",
    "grover.measure_all()\n",
    "grover.draw()"
   ]
  },
  {
   "cell_type": "code",
   "execution_count": 10,
   "id": "3f772edc",
   "metadata": {},
   "outputs": [
    {
     "data": {
      "text/plain": [
       "{'11': 1024}"
      ]
     },
     "execution_count": 10,
     "metadata": {},
     "output_type": "execute_result"
    }
   ],
   "source": [
    "from qiskit import Aer\n",
    "sim = Aer.get_backend('aer_simulator')\n",
    "sim.run(grover).result().get_counts()"
   ]
  },
  {
   "cell_type": "markdown",
   "id": "c9e43fe1",
   "metadata": {},
   "source": [
    "## example\n",
    "find the solution of ${\\textstyle \\bigwedge_{\\neg  {\\textstyle \\bigwedge_{\\neg x}^{\\neg y}} }^{\\neg y}} $"
   ]
  },
  {
   "cell_type": "code",
   "execution_count": 8,
   "id": "514d54b5",
   "metadata": {},
   "outputs": [
    {
     "data": {
      "text/html": [
       "<pre style=\"word-wrap: normal;white-space: pre;background: #fff0;line-height: 1.1;font-family: &quot;Courier New&quot;,Courier,monospace\">     ┌───┐┌───┐     ┌───┐┌───┐                                   ┌───┐┌───┐»\n",
       "q_0: ┤ H ├┤ X ├──■──┤ X ├┤ X ├────────────────────────────────■──┤ X ├┤ H ├»\n",
       "     ├───┤├───┤  │  ├───┤├───┤     ┌───┐┌───┐     ┌───┐┌───┐  │  ├───┤├───┤»\n",
       "q_1: ┤ H ├┤ X ├──■──┤ X ├┤ X ├──■──┤ X ├┤ X ├──■──┤ X ├┤ X ├──■──┤ X ├┤ H ├»\n",
       "     └───┘└───┘┌─┴─┐├───┤└───┘  │  └───┘├───┤  │  └───┘└───┘┌─┴─┐└───┘└───┘»\n",
       "q_2: ──────────┤ X ├┤ X ├───────┼────■──┤ X ├──┼────────────┤ X ├──────────»\n",
       "               └───┘└───┘     ┌─┴─┐  │  └───┘┌─┴─┐          └───┘          »\n",
       "q_3: ─────────────────────────┤ X ├──■───────┤ X ├─────────────────────────»\n",
       "                              └───┘┌─┴─┐     └───┘                         »\n",
       "q_4: ──────────────────────────────┤ X ├───────────────────────────────────»\n",
       "                                   └───┘                                   »\n",
       "c: 2/══════════════════════════════════════════════════════════════════════»\n",
       "                                                                           »\n",
       "«     ┌───┐     ┌───┐┌───┐┌─┐   \n",
       "«q_0: ┤ X ├──■──┤ X ├┤ H ├┤M├───\n",
       "«     ├───┤  │  ├───┤├───┤└╥┘┌─┐\n",
       "«q_1: ┤ X ├──■──┤ X ├┤ H ├─╫─┤M├\n",
       "«     └───┘  │  └───┘└───┘ ║ └╥┘\n",
       "«q_2: ───────┼─────────────╫──╫─\n",
       "«            │             ║  ║ \n",
       "«q_3: ───────┼─────────────╫──╫─\n",
       "«          ┌─┴─┐           ║  ║ \n",
       "«q_4: ─────┤ X ├───────────╫──╫─\n",
       "«          └───┘           ║  ║ \n",
       "«c: 2/═════════════════════╩══╩═\n",
       "«                          0  1 </pre>"
      ],
      "text/plain": [
       "     ┌───┐┌───┐     ┌───┐┌───┐                                   ┌───┐┌───┐»\n",
       "q_0: ┤ H ├┤ X ├──■──┤ X ├┤ X ├────────────────────────────────■──┤ X ├┤ H ├»\n",
       "     ├───┤├───┤  │  ├───┤├───┤     ┌───┐┌───┐     ┌───┐┌───┐  │  ├───┤├───┤»\n",
       "q_1: ┤ H ├┤ X ├──■──┤ X ├┤ X ├──■──┤ X ├┤ X ├──■──┤ X ├┤ X ├──■──┤ X ├┤ H ├»\n",
       "     └───┘└───┘┌─┴─┐├───┤└───┘  │  └───┘├───┤  │  └───┘└───┘┌─┴─┐└───┘└───┘»\n",
       "q_2: ──────────┤ X ├┤ X ├───────┼────■──┤ X ├──┼────────────┤ X ├──────────»\n",
       "               └───┘└───┘     ┌─┴─┐  │  └───┘┌─┴─┐          └───┘          »\n",
       "q_3: ─────────────────────────┤ X ├──■───────┤ X ├─────────────────────────»\n",
       "                              └───┘┌─┴─┐     └───┘                         »\n",
       "q_4: ──────────────────────────────┤ X ├───────────────────────────────────»\n",
       "                                   └───┘                                   »\n",
       "c: 2/══════════════════════════════════════════════════════════════════════»\n",
       "                                                                           »\n",
       "«     ┌───┐     ┌───┐┌───┐┌─┐   \n",
       "«q_0: ┤ X ├──■──┤ X ├┤ H ├┤M├───\n",
       "«     ├───┤  │  ├───┤├───┤└╥┘┌─┐\n",
       "«q_1: ┤ X ├──■──┤ X ├┤ H ├─╫─┤M├\n",
       "«     └───┘  │  └───┘└───┘ ║ └╥┘\n",
       "«q_2: ───────┼─────────────╫──╫─\n",
       "«            │             ║  ║ \n",
       "«q_3: ───────┼─────────────╫──╫─\n",
       "«          ┌─┴─┐           ║  ║ \n",
       "«q_4: ─────┤ X ├───────────╫──╫─\n",
       "«          └───┘           ║  ║ \n",
       "«c: 2/═════════════════════╩══╩═\n",
       "«                          0  1 "
      ]
     },
     "execution_count": 8,
     "metadata": {},
     "output_type": "execute_result"
    }
   ],
   "source": [
    "from qiskit import QuantumCircuit\n",
    "\n",
    "\n",
    "oracle = QuantumCircuit(5,2)\n",
    "oracle.x([0,1])\n",
    "oracle.ccx(0,1,2)\n",
    "oracle.x([0,1])\n",
    "\n",
    "oracle.x(1)\n",
    "oracle.cx(1,3)\n",
    "oracle.x(1)\n",
    "\n",
    "oracle.x(2)\n",
    "oracle.ccx(2,3,4)\n",
    "oracle.x(2)\n",
    "\n",
    "oracle.x(1)\n",
    "oracle.cx(1,3)\n",
    "oracle.x(1)\n",
    "\n",
    "oracle.x([0,1])\n",
    "oracle.ccx(0,1,2)\n",
    "oracle.x([0,1])\n",
    "\n",
    "\n",
    "diffuser = QuantumCircuit(5,2)\n",
    "\n",
    "diffuser.h([0, 1])\n",
    "diffuser.x([0, 1])\n",
    "diffuser.ccx(0,1,4)\n",
    "diffuser.x([0,1])\n",
    "diffuser.h([0,1])\n",
    "\n",
    "\n",
    "grover = QuantumCircuit(5,2)\n",
    "grover.h([0, 1])\n",
    "\n",
    "grover = grover.compose(oracle)\n",
    "grover = grover.compose(diffuser)\n",
    "grover.measure([0,1],[0,1])\n",
    "grover.draw()"
   ]
  },
  {
   "cell_type": "code",
   "execution_count": 9,
   "id": "ed391234",
   "metadata": {},
   "outputs": [
    {
     "data": {
      "text/plain": [
       "{'01': 614, '00': 147, '11': 138, '10': 125}"
      ]
     },
     "execution_count": 9,
     "metadata": {},
     "output_type": "execute_result"
    }
   ],
   "source": [
    "from qiskit import Aer\n",
    "sim = Aer.get_backend('aer_simulator')\n",
    "sim.run(grover).result().get_counts()"
   ]
  }
 ],
 "metadata": {
  "kernelspec": {
   "display_name": "Python 3 (ipykernel)",
   "language": "python",
   "name": "python3"
  },
  "language_info": {
   "codemirror_mode": {
    "name": "ipython",
    "version": 3
   },
   "file_extension": ".py",
   "mimetype": "text/x-python",
   "name": "python",
   "nbconvert_exporter": "python",
   "pygments_lexer": "ipython3",
   "version": "3.11.4"
  }
 },
 "nbformat": 4,
 "nbformat_minor": 5
}
